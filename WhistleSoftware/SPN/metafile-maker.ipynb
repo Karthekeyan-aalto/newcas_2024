{
 "cells": [
  {
   "cell_type": "code",
   "execution_count": 1,
   "id": "648a8ed8",
   "metadata": {},
   "outputs": [],
   "source": [
    "import csv\n",
    "\n",
    "n = 111 # Change this to the number of columns you want\n",
    "\n",
    "with open('data.csv', mode='w', newline='') as file:\n",
    "    writer = csv.writer(file)\n",
    "    writer.writerow(['var_' + str(i+1) for i in range(n)])\n",
    "    writer.writerow([2]*n)\n",
    "    writer.writerow(['cat_start', 0])\n"
   ]
  },
  {
   "cell_type": "code",
   "execution_count": null,
   "id": "f854bef4",
   "metadata": {},
   "outputs": [],
   "source": []
  }
 ],
 "metadata": {
  "kernelspec": {
   "display_name": "Python 3 (ipykernel)",
   "language": "python",
   "name": "python3"
  },
  "language_info": {
   "codemirror_mode": {
    "name": "ipython",
    "version": 3
   },
   "file_extension": ".py",
   "mimetype": "text/x-python",
   "name": "python",
   "nbconvert_exporter": "python",
   "pygments_lexer": "ipython3",
   "version": "3.10.9"
  }
 },
 "nbformat": 4,
 "nbformat_minor": 5
}
