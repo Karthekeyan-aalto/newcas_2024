{
 "cells": [
  {
   "cell_type": "code",
   "execution_count": 14,
   "id": "07d8558f",
   "metadata": {},
   "outputs": [],
   "source": [
    "import pandas as pd\n",
    "import numpy as np\n",
    "df=pd.read_csv('har6binsf14_testdata.csv')"
   ]
  },
  {
   "cell_type": "code",
   "execution_count": 15,
   "id": "0a6ad5bf",
   "metadata": {},
   "outputs": [
    {
     "data": {
      "text/plain": [
       "f0     float64\n",
       "f1     float64\n",
       "f10    float64\n",
       "f11    float64\n",
       "f12    float64\n",
       "f13    float64\n",
       "f14    float64\n",
       "f15    float64\n",
       "f16    float64\n",
       "f17    float64\n",
       "f18    float64\n",
       "f19    float64\n",
       "f2     float64\n",
       "f20    float64\n",
       "f21    float64\n",
       "f22    float64\n",
       "f23    float64\n",
       "f24    float64\n",
       "f25    float64\n",
       "f3     float64\n",
       "f4     float64\n",
       "f5     float64\n",
       "f6     float64\n",
       "f7     float64\n",
       "f8     float64\n",
       "f9     float64\n",
       "dtype: object"
      ]
     },
     "metadata": {},
     "output_type": "display_data"
    }
   ],
   "source": [
    "display(df.dtypes)\n",
    "df= df.astype(int)\n",
    "df.to_csv('har6binsf14_testdata.csv', index=False)"
   ]
  },
  {
   "cell_type": "code",
   "execution_count": null,
   "id": "da1fa94f",
   "metadata": {},
   "outputs": [],
   "source": []
  }
 ],
 "metadata": {
  "kernelspec": {
   "display_name": "Python 3",
   "language": "python",
   "name": "python3"
  },
  "language_info": {
   "codemirror_mode": {
    "name": "ipython",
    "version": 3
   },
   "file_extension": ".py",
   "mimetype": "text/x-python",
   "name": "python",
   "nbconvert_exporter": "python",
   "pygments_lexer": "ipython3",
   "version": "3.8.8"
  }
 },
 "nbformat": 4,
 "nbformat_minor": 5
}
